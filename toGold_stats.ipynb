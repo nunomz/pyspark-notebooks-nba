{
 "cells": [
  {
   "cell_type": "code",
   "execution_count": null,
   "id": "39d2fbd9",
   "metadata": {},
   "outputs": [],
   "source": [
    "# Install dependencies - não é necessário correr\n",
    "import sys\n",
    "!{sys.executable} -m pip install hdfs"
   ]
  },
  {
   "cell_type": "code",
   "execution_count": 13,
   "id": "8dc4afec",
   "metadata": {},
   "outputs": [],
   "source": [
    "from os import PathLike\n",
    "from hdfs import InsecureClient\n",
    "from pyspark.sql import SparkSession\n",
    "from pyspark.sql import Row\n",
    "from delta import *\n",
    "from pyspark.sql.types import LongType, StringType, StructField, StructType, BooleanType, ArrayType, IntegerType, FloatType, DoubleType\n",
    "from pyspark.sql.functions import when, col, concat, lit, substring, avg, sum\n",
    "\n",
    "client = InsecureClient(\"http://hdfs-nn:9870\", user=\"anonymous\")\n",
    "\n",
    "# warehouse_location points to the default location for managed databases and tables\n",
    "warehouse_location = 'hdfs://hdfs-nn:9000/projeto/fisico/gold/'\n",
    "\n",
    "builder = SparkSession \\\n",
    "    .builder \\\n",
    "    .master(\"local[2]\") \\\n",
    "    .appName(\"Python Spark DataFrames and SQL\") \\\n",
    "    .config(\"spark.sql.warehouse.dir\", warehouse_location) \\\n",
    "    .config(\"hive.metastore.uris\", \"thrift://hive-metastore:9083\") \\\n",
    "    .config(\"spark.sql.extensions\", \"io.delta.sql.DeltaSparkSessionExtension\") \\\n",
    "    .config(\"spark.sql.catalog.spark_catalog\", \"org.apache.spark.sql.delta.catalog.DeltaCatalog\") \\\n",
    "    .config(\"spark.jars.packages\", \"io.delta:delta-core_2.12:1.0.0\") \\\n",
    "    .enableHiveSupport() \\\n",
    "\n",
    "spark = configure_spark_with_delta_pip(builder).getOrCreate()"
   ]
  },
  {
   "cell_type": "code",
   "execution_count": 14,
   "id": "f08047f4",
   "metadata": {},
   "outputs": [
    {
     "data": {
      "text/plain": [
       "True"
      ]
     },
     "execution_count": 14,
     "metadata": {},
     "output_type": "execute_result"
    }
   ],
   "source": [
    "# apagar tudo do hdfs\n",
    "\n",
    "to_path = \"/projeto/fisico/gold/stats/\"\n",
    "\n",
    "client.delete(to_path,True)"
   ]
  },
  {
   "cell_type": "code",
   "execution_count": 15,
   "id": "42904e3f",
   "metadata": {},
   "outputs": [
    {
     "name": "stderr",
     "output_type": "stream",
     "text": [
      "                                                                                \r"
     ]
    }
   ],
   "source": [
    "# read data from the silver tables\n",
    "df = spark.table(\"silver.stats\")"
   ]
  },
  {
   "cell_type": "code",
   "execution_count": 16,
   "id": "19b3e399",
   "metadata": {},
   "outputs": [
    {
     "name": "stdout",
     "output_type": "stream",
     "text": [
      "root\n",
      " |-- Year: string (nullable = true)\n",
      " |-- Player: string (nullable = true)\n",
      " |-- Pos: string (nullable = true)\n",
      " |-- Age: integer (nullable = true)\n",
      " |-- Tm: string (nullable = true)\n",
      " |-- Team: string (nullable = true)\n",
      " |-- G: integer (nullable = true)\n",
      " |-- GS: integer (nullable = true)\n",
      " |-- Wins: integer (nullable = true)\n",
      " |-- Losses: integer (nullable = true)\n",
      " |-- WP: double (nullable = true)\n",
      " |-- MP: integer (nullable = true)\n",
      " |-- PER: double (nullable = true)\n",
      " |-- TSP: double (nullable = true)\n",
      " |-- 3PAr: double (nullable = true)\n",
      " |-- FTr: double (nullable = true)\n",
      " |-- ORBP: double (nullable = true)\n",
      " |-- DRBP: double (nullable = true)\n",
      " |-- TRBP: double (nullable = true)\n",
      " |-- ASTP: double (nullable = true)\n",
      " |-- STLP: double (nullable = true)\n",
      " |-- BLKP: double (nullable = true)\n",
      " |-- TOVP: double (nullable = true)\n",
      " |-- USGP: double (nullable = true)\n",
      " |-- OWS: double (nullable = true)\n",
      " |-- DWS: double (nullable = true)\n",
      " |-- WS: double (nullable = true)\n",
      " |-- WS48: double (nullable = true)\n",
      " |-- OBPM: double (nullable = true)\n",
      " |-- DBPM: double (nullable = true)\n",
      " |-- BPM: double (nullable = true)\n",
      " |-- VORP: double (nullable = true)\n",
      " |-- FG: double (nullable = true)\n",
      " |-- FGA: double (nullable = true)\n",
      " |-- FGP: double (nullable = true)\n",
      " |-- 3P: double (nullable = true)\n",
      " |-- 3PA: double (nullable = true)\n",
      " |-- 3PP: double (nullable = true)\n",
      " |-- 2P: double (nullable = true)\n",
      " |-- 2PA: double (nullable = true)\n",
      " |-- 2PP: double (nullable = true)\n",
      " |-- eFGP: double (nullable = true)\n",
      " |-- FT: double (nullable = true)\n",
      " |-- FTA: double (nullable = true)\n",
      " |-- FTP: double (nullable = true)\n",
      " |-- ORB: double (nullable = true)\n",
      " |-- DRB: double (nullable = true)\n",
      " |-- TRB: double (nullable = true)\n",
      " |-- AST: double (nullable = true)\n",
      " |-- STL: double (nullable = true)\n",
      " |-- BLK: double (nullable = true)\n",
      " |-- TOV: double (nullable = true)\n",
      " |-- PF: double (nullable = true)\n",
      " |-- PTS: double (nullable = true)\n",
      "\n"
     ]
    },
    {
     "name": "stderr",
     "output_type": "stream",
     "text": [
      "                                                                                \r"
     ]
    },
    {
     "data": {
      "text/plain": [
       "25475"
      ]
     },
     "execution_count": 16,
     "metadata": {},
     "output_type": "execute_result"
    }
   ],
   "source": [
    "df.printSchema()\n",
    "df.count()"
   ]
  },
  {
   "cell_type": "code",
   "execution_count": null,
   "id": "5e7b5d44",
   "metadata": {},
   "outputs": [],
   "source": [
    "gd_df.createOrReplaceTempView(\"gd_df\")\n",
    "\n",
    "spark.sql(\n",
    "\"\"\"\n",
    "SELECT 3P from gd_df WHERE Year=1980\n",
    "\"\"\"\n",
    ").show()"
   ]
  },
  {
   "cell_type": "code",
   "execution_count": 17,
   "id": "ba09874a",
   "metadata": {},
   "outputs": [],
   "source": [
    "# apagar todos os dados anteriores à introdução dos triplos\n",
    "gd_df = df.where(\"Year > 1979\")"
   ]
  },
  {
   "cell_type": "code",
   "execution_count": 18,
   "id": "df917fc3",
   "metadata": {},
   "outputs": [],
   "source": [
    "gd_df = gd_df.withColumn(\"Year\", gd_df[\"Year\"].cast(IntegerType()))"
   ]
  },
  {
   "cell_type": "code",
   "execution_count": 19,
   "id": "d11e9a23",
   "metadata": {},
   "outputs": [
    {
     "name": "stdout",
     "output_type": "stream",
     "text": [
      "root\n",
      " |-- Year: integer (nullable = true)\n",
      " |-- Player: string (nullable = true)\n",
      " |-- Pos: string (nullable = true)\n",
      " |-- Age: integer (nullable = true)\n",
      " |-- Tm: string (nullable = true)\n",
      " |-- Team: string (nullable = true)\n",
      " |-- G: integer (nullable = true)\n",
      " |-- GS: integer (nullable = true)\n",
      " |-- Wins: integer (nullable = true)\n",
      " |-- Losses: integer (nullable = true)\n",
      " |-- WP: double (nullable = true)\n",
      " |-- MP: integer (nullable = true)\n",
      " |-- PER: double (nullable = true)\n",
      " |-- TSP: double (nullable = true)\n",
      " |-- 3PAr: double (nullable = true)\n",
      " |-- FTr: double (nullable = true)\n",
      " |-- ORBP: double (nullable = true)\n",
      " |-- DRBP: double (nullable = true)\n",
      " |-- TRBP: double (nullable = true)\n",
      " |-- ASTP: double (nullable = true)\n",
      " |-- STLP: double (nullable = true)\n",
      " |-- BLKP: double (nullable = true)\n",
      " |-- TOVP: double (nullable = true)\n",
      " |-- USGP: double (nullable = true)\n",
      " |-- OWS: double (nullable = true)\n",
      " |-- DWS: double (nullable = true)\n",
      " |-- WS: double (nullable = true)\n",
      " |-- WS48: double (nullable = true)\n",
      " |-- OBPM: double (nullable = true)\n",
      " |-- DBPM: double (nullable = true)\n",
      " |-- BPM: double (nullable = true)\n",
      " |-- VORP: double (nullable = true)\n",
      " |-- FG: double (nullable = true)\n",
      " |-- FGA: double (nullable = true)\n",
      " |-- FGP: double (nullable = true)\n",
      " |-- 3P: double (nullable = true)\n",
      " |-- 3PA: double (nullable = true)\n",
      " |-- 3PP: double (nullable = true)\n",
      " |-- 2P: double (nullable = true)\n",
      " |-- 2PA: double (nullable = true)\n",
      " |-- 2PP: double (nullable = true)\n",
      " |-- eFGP: double (nullable = true)\n",
      " |-- FT: double (nullable = true)\n",
      " |-- FTA: double (nullable = true)\n",
      " |-- FTP: double (nullable = true)\n",
      " |-- ORB: double (nullable = true)\n",
      " |-- DRB: double (nullable = true)\n",
      " |-- TRB: double (nullable = true)\n",
      " |-- AST: double (nullable = true)\n",
      " |-- STL: double (nullable = true)\n",
      " |-- BLK: double (nullable = true)\n",
      " |-- TOV: double (nullable = true)\n",
      " |-- PF: double (nullable = true)\n",
      " |-- PTS: double (nullable = true)\n",
      "\n"
     ]
    },
    {
     "data": {
      "text/plain": [
       "19778"
      ]
     },
     "execution_count": 19,
     "metadata": {},
     "output_type": "execute_result"
    }
   ],
   "source": [
    "gd_df.printSchema()\n",
    "gd_df.count()"
   ]
  },
  {
   "cell_type": "code",
   "execution_count": null,
   "id": "a74cb649",
   "metadata": {},
   "outputs": [],
   "source": [
    "# apagar coluna da idade pois já existe no gd_physical\n",
    "# gd_df = gd_df.select(\"Year\",\"Player\",\"Pos\",\"Tm\",\"Team\",\"G\",\"GS\",\"MP\",\"PER\",\"TSP\",\"3PAr\",\"FTr\",\"ORBP\",\"DRBP\",\"TRBP\",\"ASTP\",\"STLP\",\"BLKP\",\"TOVP\",\"USGP\",\"OWS\",\"DWS\",\"WS\",\"WS48\",\"OBPM\",\"DBPM\",\"BPM\",\"VORP\",\"FG\",\"FGA\",\"FGP\",\"3P\",\"3PA\",\"3PP\",\"2P\",\"2PA\",\"2PP\",\"eFGP\",\"FT\",\"FTA\",\"FTP\",\"ORB\",\"DRB\",\"TRB\",\"AST\",\"STL\",\"BLK\",\"TOV\",\"PF\",\"PTS\")"
   ]
  },
  {
   "cell_type": "code",
   "execution_count": 22,
   "id": "f7affd92",
   "metadata": {},
   "outputs": [
    {
     "name": "stderr",
     "output_type": "stream",
     "text": [
      "                                                                                \r"
     ]
    }
   ],
   "source": [
    "# write to delta table\n",
    "gd_df \\\n",
    "    .write \\\n",
    "    .format(\"delta\") \\\n",
    "    .mode(\"overwrite\") \\\n",
    "    .save(\"hdfs://hdfs-nn:9000/projeto/fisico/gold/stats/\")"
   ]
  },
  {
   "cell_type": "code",
   "execution_count": null,
   "id": "640e11d2",
   "metadata": {},
   "outputs": [],
   "source": [
    "# check the results in the table\n",
    "spark.table(\"gold.stats\").show()\n",
    "spark.table(\"gold.stats\").count()"
   ]
  },
  {
   "cell_type": "code",
   "execution_count": null,
   "id": "267977c2",
   "metadata": {},
   "outputs": [],
   "source": []
  }
 ],
 "metadata": {
  "kernelspec": {
   "display_name": "Python 3 (ipykernel)",
   "language": "python",
   "name": "python3"
  },
  "language_info": {
   "codemirror_mode": {
    "name": "ipython",
    "version": 3
   },
   "file_extension": ".py",
   "mimetype": "text/x-python",
   "name": "python",
   "nbconvert_exporter": "python",
   "pygments_lexer": "ipython3",
   "version": "3.9.7"
  }
 },
 "nbformat": 4,
 "nbformat_minor": 5
}
