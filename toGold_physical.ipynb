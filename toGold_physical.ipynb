{
 "cells": [
  {
   "cell_type": "code",
   "execution_count": null,
   "id": "39d2fbd9",
   "metadata": {},
   "outputs": [],
   "source": [
    "# Install dependencies - não é necessário correr\n",
    "import sys\n",
    "!{sys.executable} -m pip install hdfs"
   ]
  },
  {
   "cell_type": "code",
   "execution_count": 1,
   "id": "8dc4afec",
   "metadata": {},
   "outputs": [
    {
     "name": "stderr",
     "output_type": "stream",
     "text": [
      "Warning: Ignoring non-Spark config property: hive.metastore.uris\n",
      "WARNING: An illegal reflective access operation has occurred\n",
      "WARNING: Illegal reflective access by org.apache.spark.unsafe.Platform (file:/usr/local/spark-3.1.2-bin-hadoop3.2/jars/spark-unsafe_2.12-3.1.2.jar) to constructor java.nio.DirectByteBuffer(long,int)\n",
      "WARNING: Please consider reporting this to the maintainers of org.apache.spark.unsafe.Platform\n",
      "WARNING: Use --illegal-access=warn to enable warnings of further illegal reflective access operations\n",
      "WARNING: All illegal access operations will be denied in a future release\n"
     ]
    },
    {
     "name": "stdout",
     "output_type": "stream",
     "text": [
      ":: loading settings :: url = jar:file:/usr/local/spark-3.1.2-bin-hadoop3.2/jars/ivy-2.4.0.jar!/org/apache/ivy/core/settings/ivysettings.xml\n"
     ]
    },
    {
     "name": "stderr",
     "output_type": "stream",
     "text": [
      "Ivy Default Cache set to: /home/jovyan/.ivy2/cache\n",
      "The jars for the packages stored in: /home/jovyan/.ivy2/jars\n",
      "io.delta#delta-core_2.12 added as a dependency\n",
      ":: resolving dependencies :: org.apache.spark#spark-submit-parent-9e3563c7-b18f-4eb2-862f-31b3e20897c7;1.0\n",
      "\tconfs: [default]\n",
      "\tfound io.delta#delta-core_2.12;1.0.0 in central\n",
      "\tfound org.antlr#antlr4;4.7 in central\n",
      "\tfound org.antlr#antlr4-runtime;4.7 in central\n",
      "\tfound org.antlr#antlr-runtime;3.5.2 in central\n",
      "\tfound org.antlr#ST4;4.0.8 in central\n",
      "\tfound org.abego.treelayout#org.abego.treelayout.core;1.0.3 in central\n",
      "\tfound org.glassfish#javax.json;1.0.4 in central\n",
      "\tfound com.ibm.icu#icu4j;58.2 in central\n",
      ":: resolution report :: resolve 5024ms :: artifacts dl 23ms\n",
      "\t:: modules in use:\n",
      "\tcom.ibm.icu#icu4j;58.2 from central in [default]\n",
      "\tio.delta#delta-core_2.12;1.0.0 from central in [default]\n",
      "\torg.abego.treelayout#org.abego.treelayout.core;1.0.3 from central in [default]\n",
      "\torg.antlr#ST4;4.0.8 from central in [default]\n",
      "\torg.antlr#antlr-runtime;3.5.2 from central in [default]\n",
      "\torg.antlr#antlr4;4.7 from central in [default]\n",
      "\torg.antlr#antlr4-runtime;4.7 from central in [default]\n",
      "\torg.glassfish#javax.json;1.0.4 from central in [default]\n",
      "\t---------------------------------------------------------------------\n",
      "\t|                  |            modules            ||   artifacts   |\n",
      "\t|       conf       | number| search|dwnlded|evicted|| number|dwnlded|\n",
      "\t---------------------------------------------------------------------\n",
      "\t|      default     |   8   |   0   |   0   |   0   ||   8   |   0   |\n",
      "\t---------------------------------------------------------------------\n",
      ":: retrieving :: org.apache.spark#spark-submit-parent-9e3563c7-b18f-4eb2-862f-31b3e20897c7\n",
      "\tconfs: [default]\n",
      "\t0 artifacts copied, 8 already retrieved (0kB/28ms)\n",
      "22/01/14 01:13:36 WARN NativeCodeLoader: Unable to load native-hadoop library for your platform... using builtin-java classes where applicable\n",
      "Using Spark's default log4j profile: org/apache/spark/log4j-defaults.properties\n",
      "Setting default log level to \"WARN\".\n",
      "To adjust logging level use sc.setLogLevel(newLevel). For SparkR, use setLogLevel(newLevel).\n",
      "22/01/14 01:13:49 WARN Utils: Service 'SparkUI' could not bind on port 4040. Attempting port 4041.\n",
      "22/01/14 01:13:49 WARN Utils: Service 'SparkUI' could not bind on port 4041. Attempting port 4042.\n",
      "22/01/14 01:13:49 WARN Utils: Service 'SparkUI' could not bind on port 4042. Attempting port 4043.\n",
      "22/01/14 01:13:49 WARN Utils: Service 'SparkUI' could not bind on port 4043. Attempting port 4044.\n"
     ]
    }
   ],
   "source": [
    "from os import PathLike\n",
    "from hdfs import InsecureClient\n",
    "from pyspark.sql import SparkSession\n",
    "from pyspark.sql import Row\n",
    "from delta import *\n",
    "from pyspark.sql.types import LongType, StringType, StructField, StructType, BooleanType, ArrayType, IntegerType, FloatType, DoubleType\n",
    "from pyspark.sql.functions import when, col, concat, lit, substring, avg, sum\n",
    "\n",
    "client = InsecureClient(\"http://hdfs-nn:9870\", user=\"anonymous\")\n",
    "\n",
    "# warehouse_location points to the default location for managed databases and tables\n",
    "warehouse_location = 'hdfs://hdfs-nn:9000/projeto/fisico/gold/'\n",
    "\n",
    "builder = SparkSession \\\n",
    "    .builder \\\n",
    "    .master(\"local[2]\") \\\n",
    "    .appName(\"Python Spark DataFrames and SQL\") \\\n",
    "    .config(\"spark.sql.warehouse.dir\", warehouse_location) \\\n",
    "    .config(\"hive.metastore.uris\", \"thrift://hive-metastore:9083\") \\\n",
    "    .config(\"spark.sql.extensions\", \"io.delta.sql.DeltaSparkSessionExtension\") \\\n",
    "    .config(\"spark.sql.catalog.spark_catalog\", \"org.apache.spark.sql.delta.catalog.DeltaCatalog\") \\\n",
    "    .config(\"spark.jars.packages\", \"io.delta:delta-core_2.12:1.0.0\") \\\n",
    "    .enableHiveSupport() \\\n",
    "\n",
    "spark = configure_spark_with_delta_pip(builder).getOrCreate()"
   ]
  },
  {
   "cell_type": "code",
   "execution_count": 15,
   "id": "f08047f4",
   "metadata": {},
   "outputs": [
    {
     "data": {
      "text/plain": [
       "True"
      ]
     },
     "execution_count": 15,
     "metadata": {},
     "output_type": "execute_result"
    }
   ],
   "source": [
    "# apagar tudo do hdfs\n",
    "\n",
    "#s_path = \"/projeto/fisico/gold/\"\n",
    "b_path = \"/projeto/fisico/gold/physical/\"\n",
    "\n",
    "#client.delete(s_path,True)\n",
    "client.delete(b_path,True)"
   ]
  },
  {
   "cell_type": "code",
   "execution_count": 4,
   "id": "42904e3f",
   "metadata": {},
   "outputs": [
    {
     "name": "stderr",
     "output_type": "stream",
     "text": [
      "                                                                                \r"
     ]
    }
   ],
   "source": [
    "# read data from the silver tables\n",
    "s_df = spark.table(\"silver.stats\")\n",
    "b_df = spark.table(\"silver.bios\")"
   ]
  },
  {
   "cell_type": "code",
   "execution_count": null,
   "id": "b7782952",
   "metadata": {},
   "outputs": [],
   "source": [
    "s_df.printSchema()\n",
    "b_df.printSchema()"
   ]
  },
  {
   "cell_type": "code",
   "execution_count": 5,
   "id": "f77f4815",
   "metadata": {},
   "outputs": [],
   "source": [
    "# join to make a flat table\n",
    "gd_df = s_df \\\n",
    "    .join(b_df, s_df.Player == b_df.name) \\\n",
    "    .select(\"Player\", \"height_cm\", \"weight_kg\", \"imc\")"
   ]
  },
  {
   "cell_type": "code",
   "execution_count": 16,
   "id": "2893695c",
   "metadata": {},
   "outputs": [
    {
     "name": "stdout",
     "output_type": "stream",
     "text": [
      "root\n",
      " |-- Player: string (nullable = true)\n",
      " |-- Age: integer (nullable = true)\n",
      " |-- height_cm: double (nullable = true)\n",
      " |-- weight_kg: double (nullable = true)\n",
      " |-- imc: double (nullable = true)\n",
      "\n"
     ]
    },
    {
     "name": "stderr",
     "output_type": "stream",
     "text": [
      "                                                                                \r"
     ]
    },
    {
     "data": {
      "text/html": [
       "<div>\n",
       "<style scoped>\n",
       "    .dataframe tbody tr th:only-of-type {\n",
       "        vertical-align: middle;\n",
       "    }\n",
       "\n",
       "    .dataframe tbody tr th {\n",
       "        vertical-align: top;\n",
       "    }\n",
       "\n",
       "    .dataframe thead th {\n",
       "        text-align: right;\n",
       "    }\n",
       "</style>\n",
       "<table border=\"1\" class=\"dataframe\">\n",
       "  <thead>\n",
       "    <tr style=\"text-align: right;\">\n",
       "      <th></th>\n",
       "      <th>Player</th>\n",
       "      <th>Age</th>\n",
       "      <th>height_cm</th>\n",
       "      <th>weight_kg</th>\n",
       "      <th>imc</th>\n",
       "    </tr>\n",
       "  </thead>\n",
       "  <tbody>\n",
       "    <tr>\n",
       "      <th>0</th>\n",
       "      <td>Caron Butler</td>\n",
       "      <td>34.0</td>\n",
       "      <td>200.66</td>\n",
       "      <td>103.419060</td>\n",
       "      <td>25.682423</td>\n",
       "    </tr>\n",
       "    <tr>\n",
       "      <th>1</th>\n",
       "      <td>Lance Thomas</td>\n",
       "      <td>26.0</td>\n",
       "      <td>203.20</td>\n",
       "      <td>106.594207</td>\n",
       "      <td>25.813281</td>\n",
       "    </tr>\n",
       "    <tr>\n",
       "      <th>2</th>\n",
       "      <td>Jon Brockman</td>\n",
       "      <td>23.0</td>\n",
       "      <td>200.66</td>\n",
       "      <td>115.666054</td>\n",
       "      <td>28.723762</td>\n",
       "    </tr>\n",
       "    <tr>\n",
       "      <th>3</th>\n",
       "      <td>Rudy Fernandez</td>\n",
       "      <td>25.0</td>\n",
       "      <td>198.12</td>\n",
       "      <td>83.914588</td>\n",
       "      <td>21.376561</td>\n",
       "    </tr>\n",
       "    <tr>\n",
       "      <th>4</th>\n",
       "      <td>Paul Pierce</td>\n",
       "      <td>33.0</td>\n",
       "      <td>200.66</td>\n",
       "      <td>106.594207</td>\n",
       "      <td>26.470918</td>\n",
       "    </tr>\n",
       "    <tr>\n",
       "      <th>...</th>\n",
       "      <td>...</td>\n",
       "      <td>...</td>\n",
       "      <td>...</td>\n",
       "      <td>...</td>\n",
       "      <td>...</td>\n",
       "    </tr>\n",
       "    <tr>\n",
       "      <th>19388</th>\n",
       "      <td>Zeke Zawoluk</td>\n",
       "      <td>22.0</td>\n",
       "      <td>200.66</td>\n",
       "      <td>97.522360</td>\n",
       "      <td>24.218074</td>\n",
       "    </tr>\n",
       "    <tr>\n",
       "      <th>19389</th>\n",
       "      <td>Fred Scolari</td>\n",
       "      <td>28.0</td>\n",
       "      <td>177.80</td>\n",
       "      <td>81.646627</td>\n",
       "      <td>25.824490</td>\n",
       "    </tr>\n",
       "    <tr>\n",
       "      <th>19390</th>\n",
       "      <td>Jack Coleman</td>\n",
       "      <td>29.0</td>\n",
       "      <td>200.66</td>\n",
       "      <td>88.450512</td>\n",
       "      <td>21.965230</td>\n",
       "    </tr>\n",
       "    <tr>\n",
       "      <th>19391</th>\n",
       "      <td>Jack Turner</td>\n",
       "      <td>22.0</td>\n",
       "      <td>194.31</td>\n",
       "      <td>83.914588</td>\n",
       "      <td>22.202369</td>\n",
       "    </tr>\n",
       "    <tr>\n",
       "      <th>19392</th>\n",
       "      <td>Carl Braun</td>\n",
       "      <td>31.0</td>\n",
       "      <td>195.58</td>\n",
       "      <td>81.646627</td>\n",
       "      <td>21.342554</td>\n",
       "    </tr>\n",
       "  </tbody>\n",
       "</table>\n",
       "<p>19393 rows × 5 columns</p>\n",
       "</div>"
      ],
      "text/plain": [
       "               Player   Age  height_cm   weight_kg        imc\n",
       "0        Caron Butler  34.0     200.66  103.419060  25.682423\n",
       "1        Lance Thomas  26.0     203.20  106.594207  25.813281\n",
       "2        Jon Brockman  23.0     200.66  115.666054  28.723762\n",
       "3      Rudy Fernandez  25.0     198.12   83.914588  21.376561\n",
       "4         Paul Pierce  33.0     200.66  106.594207  26.470918\n",
       "...               ...   ...        ...         ...        ...\n",
       "19388    Zeke Zawoluk  22.0     200.66   97.522360  24.218074\n",
       "19389    Fred Scolari  28.0     177.80   81.646627  25.824490\n",
       "19390    Jack Coleman  29.0     200.66   88.450512  21.965230\n",
       "19391     Jack Turner  22.0     194.31   83.914588  22.202369\n",
       "19392      Carl Braun  31.0     195.58   81.646627  21.342554\n",
       "\n",
       "[19393 rows x 5 columns]"
      ]
     },
     "execution_count": 16,
     "metadata": {},
     "output_type": "execute_result"
    }
   ],
   "source": [
    "gd_df.printSchema()\n",
    "gd_df.toPandas()"
   ]
  },
  {
   "cell_type": "code",
   "execution_count": 7,
   "id": "fdba2071",
   "metadata": {},
   "outputs": [],
   "source": [
    "# aggregate data per country, year and product (name and color)\n",
    "gd_df = gd_df \\\n",
    "    .groupBy(\"Player\") \\\n",
    "    .agg(\n",
    "        avg(gd_df.height_cm).alias(\"height_cm\"),\n",
    "        avg(gd_df.weight_kg).alias(\"weight_kg\"),\n",
    "        avg(gd_df.imc).alias(\"imc\"),\n",
    "    )"
   ]
  },
  {
   "cell_type": "code",
   "execution_count": 9,
   "id": "88b9f9b7",
   "metadata": {},
   "outputs": [
    {
     "name": "stderr",
     "output_type": "stream",
     "text": [
      "                                                                                \r"
     ]
    },
    {
     "name": "stdout",
     "output_type": "stream",
     "text": [
      "+----------------+---------+---------+-----+\n",
      "|          Player|height_cm|weight_kg|  imc|\n",
      "+----------------+---------+---------+-----+\n",
      "| Al-Farouq Aminu|   205.74|    99.79|23.57|\n",
      "|   Greg Stiemsma|   210.82|   117.93|26.53|\n",
      "|  Rodney Stuckey|   195.58|    95.25| 24.9|\n",
      "|  Brandon Ingram|   205.74|    86.18|20.36|\n",
      "|     Terry Mills|   208.28|   104.33|24.05|\n",
      "|  Nate Blackwell|   193.04|    77.11|20.69|\n",
      "|Chuckie Williams|    190.5|    81.65| 22.5|\n",
      "|     Greg Howard|   205.74|    97.52|23.04|\n",
      "|        Ed Mikan|    203.2|   104.33|25.26|\n",
      "|       Red Rocha|   205.74|    83.91|19.82|\n",
      "|  Svi Mykhailiuk|    203.2|    92.99|22.52|\n",
      "|   Nassir Little|   198.12|    99.79|25.42|\n",
      "|       Bob Allen|   205.74|    92.99|21.97|\n",
      "|  Reggie Harding|   213.36|   112.94|24.81|\n",
      "|      Al Bianchi|    190.5|    83.91|23.12|\n",
      "|     John Barber|   198.12|    95.25|24.27|\n",
      "|     Zach LaVine|   195.58|    91.47|23.91|\n",
      "|    Andre Miller|    190.5|    90.72| 25.0|\n",
      "|  Kevin Seraphin|   205.74|   129.27|30.54|\n",
      "|  Viktor Khryapa|   205.74|    95.25| 22.5|\n",
      "+----------------+---------+---------+-----+\n",
      "only showing top 20 rows\n",
      "\n"
     ]
    }
   ],
   "source": [
    "import pyspark.sql.functions as func\n",
    "gd_df = gd_df \\\n",
    "    .withColumn(\"height_cm\", func.round(gd_df[\"height_cm\"], 2)) \\\n",
    "    .withColumn(\"weight_kg\", func.round(gd_df[\"weight_kg\"], 2)) \\\n",
    "    .withColumn(\"imc\", func.round(gd_df[\"imc\"], 2))\n",
    "gd_df.show()"
   ]
  },
  {
   "cell_type": "code",
   "execution_count": 10,
   "id": "f7affd92",
   "metadata": {},
   "outputs": [
    {
     "name": "stderr",
     "output_type": "stream",
     "text": [
      "                                                                                \r"
     ]
    }
   ],
   "source": [
    "# write to delta table\n",
    "gd_df \\\n",
    "    .write \\\n",
    "    .format(\"delta\") \\\n",
    "    .mode(\"overwrite\") \\\n",
    "    .save(\"hdfs://hdfs-nn:9000/projeto/fisico/gold/physical/\")"
   ]
  },
  {
   "cell_type": "code",
   "execution_count": 14,
   "id": "640e11d2",
   "metadata": {},
   "outputs": [
    {
     "name": "stdout",
     "output_type": "stream",
     "text": [
      "+----------------+---+------------------+------------------+------------------+\n",
      "|          Player|Age|         height_cm|         weight_kg|               imc|\n",
      "+----------------+---+------------------+------------------+------------------+\n",
      "|      Boris Diaw| 32|             203.2|       113.3980925|        27.4609375|\n",
      "|   Iman Shumpert| 24|            195.58| 99.79032140000002|26.085343228200372|\n",
      "|     Jason Smith| 28|            213.36|111.13013065000001|24.409722222222225|\n",
      "|  Gerald Wallace| 32|            200.66|       97.52235955|24.218074026598305|\n",
      "|  Craig Brackins| 23|            208.28|104.32624510000001| 24.04669839381321|\n",
      "|     James Jones| 30|             203.2|       98.88313666|23.945937500000003|\n",
      "|    Andre Miller| 34|             190.5|         90.718474|24.995555555555555|\n",
      "| Jermaine O'Neal| 32|            210.82|102.51187562000001| 23.06256350704021|\n",
      "|     Brent Barry| 36|            198.12| 83.91458845000001| 21.37656147271532|\n",
      "|    Devin Harris| 24|             190.5| 85.50216174500001|23.558311111111113|\n",
      "|Donyell Marshall| 34|            205.74|       98.88313666| 23.35832952293858|\n",
      "|     C.J. Watson| 23|            187.96|       79.37866475|22.466216216216218|\n",
      "|   Channing Frye| 33|            210.82|115.66605435000001| 26.02191900130643|\n",
      "| Justin Hamilton| 26|            213.36|       117.9340162|25.904195011337865|\n",
      "|    Josh Huestis| 25|            200.66|104.32624510000001|25.907707098221437|\n",
      "|    Paul Millsap| 23|203.19999999999996|111.58372302000002|27.021562499999998|\n",
      "|Predrag Drobnjak| 29|            210.82|       122.4699399| 27.55262011903034|\n",
      "|      Melvin Ely| 26|            208.28|       117.9340162|27.183224271267104|\n",
      "|    Scot Pollard| 29|            210.82|120.20197805000001| 27.04238641312237|\n",
      "|    Qyntel Woods| 23|             203.2|      100.24391377|24.275468749999998|\n",
      "+----------------+---+------------------+------------------+------------------+\n",
      "only showing top 20 rows\n",
      "\n"
     ]
    },
    {
     "name": "stderr",
     "output_type": "stream",
     "text": [
      "                                                                                \r"
     ]
    },
    {
     "data": {
      "text/plain": [
       "19393"
      ]
     },
     "execution_count": 14,
     "metadata": {},
     "output_type": "execute_result"
    }
   ],
   "source": [
    "# check the results in the table\n",
    "spark.table(\"gold.physical\").show()\n",
    "spark.table(\"gold.physical\").count()"
   ]
  },
  {
   "cell_type": "code",
   "execution_count": null,
   "id": "ecb41c24",
   "metadata": {},
   "outputs": [],
   "source": []
  }
 ],
 "metadata": {
  "kernelspec": {
   "display_name": "Python 3 (ipykernel)",
   "language": "python",
   "name": "python3"
  },
  "language_info": {
   "codemirror_mode": {
    "name": "ipython",
    "version": 3
   },
   "file_extension": ".py",
   "mimetype": "text/x-python",
   "name": "python",
   "nbconvert_exporter": "python",
   "pygments_lexer": "ipython3",
   "version": "3.9.7"
  }
 },
 "nbformat": 4,
 "nbformat_minor": 5
}
