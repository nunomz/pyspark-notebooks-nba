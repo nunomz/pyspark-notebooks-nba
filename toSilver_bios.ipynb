{
 "cells": [
  {
   "cell_type": "code",
   "execution_count": null,
   "id": "678766ae",
   "metadata": {},
   "outputs": [],
   "source": [
    "# Install dependencies - não é necessário correr\n",
    "import sys\n",
    "!{sys.executable} -m pip install hdfs"
   ]
  },
  {
   "cell_type": "code",
   "execution_count": 1,
   "id": "d459c89c",
   "metadata": {},
   "outputs": [
    {
     "name": "stderr",
     "output_type": "stream",
     "text": [
      "Warning: Ignoring non-Spark config property: hive.metastore.uris\n",
      "WARNING: An illegal reflective access operation has occurred\n",
      "WARNING: Illegal reflective access by org.apache.spark.unsafe.Platform (file:/usr/local/spark-3.1.2-bin-hadoop3.2/jars/spark-unsafe_2.12-3.1.2.jar) to constructor java.nio.DirectByteBuffer(long,int)\n",
      "WARNING: Please consider reporting this to the maintainers of org.apache.spark.unsafe.Platform\n",
      "WARNING: Use --illegal-access=warn to enable warnings of further illegal reflective access operations\n",
      "WARNING: All illegal access operations will be denied in a future release\n"
     ]
    },
    {
     "name": "stdout",
     "output_type": "stream",
     "text": [
      ":: loading settings :: url = jar:file:/usr/local/spark-3.1.2-bin-hadoop3.2/jars/ivy-2.4.0.jar!/org/apache/ivy/core/settings/ivysettings.xml\n"
     ]
    },
    {
     "name": "stderr",
     "output_type": "stream",
     "text": [
      "Ivy Default Cache set to: /home/jovyan/.ivy2/cache\n",
      "The jars for the packages stored in: /home/jovyan/.ivy2/jars\n",
      "io.delta#delta-core_2.12 added as a dependency\n",
      ":: resolving dependencies :: org.apache.spark#spark-submit-parent-2b7f88c0-5374-48d8-b115-2ad7245d90a2;1.0\n",
      "\tconfs: [default]\n",
      "\tfound io.delta#delta-core_2.12;1.0.0 in central\n",
      "\tfound org.antlr#antlr4;4.7 in central\n",
      "\tfound org.antlr#antlr4-runtime;4.7 in central\n",
      "\tfound org.antlr#antlr-runtime;3.5.2 in central\n",
      "\tfound org.antlr#ST4;4.0.8 in central\n",
      "\tfound org.abego.treelayout#org.abego.treelayout.core;1.0.3 in central\n",
      "\tfound org.glassfish#javax.json;1.0.4 in central\n",
      "\tfound com.ibm.icu#icu4j;58.2 in central\n",
      ":: resolution report :: resolve 548ms :: artifacts dl 17ms\n",
      "\t:: modules in use:\n",
      "\tcom.ibm.icu#icu4j;58.2 from central in [default]\n",
      "\tio.delta#delta-core_2.12;1.0.0 from central in [default]\n",
      "\torg.abego.treelayout#org.abego.treelayout.core;1.0.3 from central in [default]\n",
      "\torg.antlr#ST4;4.0.8 from central in [default]\n",
      "\torg.antlr#antlr-runtime;3.5.2 from central in [default]\n",
      "\torg.antlr#antlr4;4.7 from central in [default]\n",
      "\torg.antlr#antlr4-runtime;4.7 from central in [default]\n",
      "\torg.glassfish#javax.json;1.0.4 from central in [default]\n",
      "\t---------------------------------------------------------------------\n",
      "\t|                  |            modules            ||   artifacts   |\n",
      "\t|       conf       | number| search|dwnlded|evicted|| number|dwnlded|\n",
      "\t---------------------------------------------------------------------\n",
      "\t|      default     |   8   |   0   |   0   |   0   ||   8   |   0   |\n",
      "\t---------------------------------------------------------------------\n",
      ":: retrieving :: org.apache.spark#spark-submit-parent-2b7f88c0-5374-48d8-b115-2ad7245d90a2\n",
      "\tconfs: [default]\n",
      "\t0 artifacts copied, 8 already retrieved (0kB/13ms)\n",
      "22/01/14 01:16:53 WARN NativeCodeLoader: Unable to load native-hadoop library for your platform... using builtin-java classes where applicable\n",
      "Using Spark's default log4j profile: org/apache/spark/log4j-defaults.properties\n",
      "Setting default log level to \"WARN\".\n",
      "To adjust logging level use sc.setLogLevel(newLevel). For SparkR, use setLogLevel(newLevel).\n",
      "22/01/14 01:16:55 WARN Utils: Service 'SparkUI' could not bind on port 4040. Attempting port 4041.\n",
      "22/01/14 01:16:55 WARN Utils: Service 'SparkUI' could not bind on port 4041. Attempting port 4042.\n",
      "22/01/14 01:16:55 WARN Utils: Service 'SparkUI' could not bind on port 4042. Attempting port 4043.\n",
      "22/01/14 01:16:55 WARN Utils: Service 'SparkUI' could not bind on port 4043. Attempting port 4044.\n",
      "22/01/14 01:16:55 WARN Utils: Service 'SparkUI' could not bind on port 4044. Attempting port 4045.\n"
     ]
    }
   ],
   "source": [
    "from os import PathLike\n",
    "from hdfs import InsecureClient\n",
    "from pyspark.sql import SparkSession\n",
    "from pyspark.sql import Row\n",
    "from delta import *\n",
    "from pyspark.sql.types import LongType, StringType, StructField, StructType, BooleanType, ArrayType, IntegerType, FloatType, DoubleType\n",
    "from pyspark.sql.functions import when, col, concat, lit\n",
    "\n",
    "client = InsecureClient(\"http://hdfs-nn:9870\", user=\"anonymous\")\n",
    "\n",
    "# warehouse_location points to the default location for managed databases and tables\n",
    "warehouse_location = 'hdfs://hdfs-nn:9000/projeto/fisico/silver/'\n",
    "\n",
    "builder = SparkSession \\\n",
    "    .builder \\\n",
    "    .master(\"local[2]\") \\\n",
    "    .appName(\"Python Spark DataFrames and SQL\") \\\n",
    "    .config(\"spark.sql.warehouse.dir\", warehouse_location) \\\n",
    "    .config(\"hive.metastore.uris\", \"thrift://hive-metastore:9083\") \\\n",
    "    .config(\"spark.sql.extensions\", \"io.delta.sql.DeltaSparkSessionExtension\") \\\n",
    "    .config(\"spark.sql.catalog.spark_catalog\", \"org.apache.spark.sql.delta.catalog.DeltaCatalog\") \\\n",
    "    .config(\"spark.jars.packages\", \"io.delta:delta-core_2.12:1.0.0\") \\\n",
    "    .enableHiveSupport() \\\n",
    "\n",
    "spark = configure_spark_with_delta_pip(builder).getOrCreate()"
   ]
  },
  {
   "cell_type": "code",
   "execution_count": null,
   "id": "bd27efca",
   "metadata": {},
   "outputs": [],
   "source": [
    "# apagar tudo do hdfs\n",
    "\n",
    "#to_path = \"/projeto/fisico/bronze/bios/\"\n",
    "#to_path_aux = \"/projeto/fisico/bronze/players_stats_by_season_full_details/\"\n",
    "\n",
    "#to_path_silver = \"/projeto/fisico/silver/bios/\"\n",
    "\n",
    "#client.delete(to_path,True)\n",
    "#client.delete(to_path_aux,True)\n",
    "\n",
    "#client.delete(to_path_silver,True)"
   ]
  },
  {
   "cell_type": "code",
   "execution_count": 2,
   "id": "8a34f3ed",
   "metadata": {},
   "outputs": [],
   "source": [
    "# declaracao dos caminhos\n",
    "\n",
    "from_path = \"../projeto/bronze/bios/\"\n",
    "from_path_aux = \"../projeto/bronze/players_stats_by_season_full_details/\"\n",
    "\n",
    "hdfs_path = \"hdfs://hdfs-nn:9000/projeto/fisico/bronze/bios\"\n",
    "hdfs_path_aux = \"hdfs://hdfs-nn:9000/projeto/fisico/bronze/players_stats_by_season_full_details\"\n",
    "\n",
    "#hdfs_path1 = \"hdfs://hdfs-nn:9000/projeto/fisico/bronze/bios1\"\n",
    "#hdfs_path_aux1 = \"hdfs://hdfs-nn:9000/projeto/fisico/bronze/players_stats_by_season_full_details1\""
   ]
  },
  {
   "cell_type": "code",
   "execution_count": null,
   "id": "97f8bee4",
   "metadata": {},
   "outputs": [],
   "source": [
    "# upload de bronze\n",
    "\n",
    "client.upload(to_path, from_path)\n",
    "client.upload(to_path_aux, from_path_aux)"
   ]
  },
  {
   "cell_type": "code",
   "execution_count": 3,
   "id": "aab5f19a",
   "metadata": {},
   "outputs": [
    {
     "name": "stderr",
     "output_type": "stream",
     "text": [
      "                                                                                \r"
     ]
    }
   ],
   "source": [
    "dataFrame = spark.read.csv(hdfs_path, header= True, inferSchema = True )\n",
    "dataFrame_aux = spark.read.csv(hdfs_path_aux, header= True, inferSchema = True )"
   ]
  },
  {
   "cell_type": "code",
   "execution_count": null,
   "id": "cc53d5df",
   "metadata": {},
   "outputs": [],
   "source": [
    "dataFrame.printSchema()\n",
    "dataFrame.show(truncate=False)\n",
    "dataFrame.toPandas()\n",
    "#topandas usar apenas para mostrar os dados em tabela"
   ]
  },
  {
   "cell_type": "code",
   "execution_count": null,
   "id": "b1fcfa6a",
   "metadata": {},
   "outputs": [],
   "source": [
    "dataFrame_status = dataFrame.summary() #sempre que se cria uma nova funçao é necessario um novo dataframe\n",
    "\n",
    "dataFrame_status.toPandas() #serve para msotrar a informação de cima obtida"
   ]
  },
  {
   "cell_type": "code",
   "execution_count": 4,
   "id": "2ed8005d",
   "metadata": {},
   "outputs": [],
   "source": [
    "# JUNCAO"
   ]
  },
  {
   "cell_type": "code",
   "execution_count": 5,
   "id": "ff0dc0ba",
   "metadata": {},
   "outputs": [],
   "source": [
    "dataFrame_aux = dataFrame_aux.withColumn(    \n",
    "    \"year_start\",\n",
    "    dataFrame_aux.Season.substr(1, 4)\n",
    ")\n",
    "\n",
    "dataFrame_aux = dataFrame_aux.withColumn(    \n",
    "    \"year_end\",\n",
    "    dataFrame_aux.Season.substr(8, 4)\n",
    ")"
   ]
  },
  {
   "cell_type": "code",
   "execution_count": 6,
   "id": "ae2ac6d4",
   "metadata": {},
   "outputs": [
    {
     "name": "stderr",
     "output_type": "stream",
     "text": [
      "22/01/14 01:17:31 WARN package: Truncated the string representation of a plan since it was too large. This behavior can be adjusted by setting 'spark.sql.debug.maxToStringFields'.\n",
      "[Stage 4:>                                                          (0 + 1) / 1]me version 4.8ANTLR Tool version 4.7 used for code generation does not match the current runtime version 4.8\r"
     ]
    },
    {
     "name": "stdout",
     "output_type": "stream",
     "text": [
      "+---------------------+----------+--------+------+------+------------+------------------------------------+\n",
      "|Player               |year_start|year_end|height|weight|birth_date  |high_school                         |\n",
      "+---------------------+----------+--------+------+------+------------+------------------------------------+\n",
      "|James Harden         |2018      |2019    |6-5   |220   |Aug 26, 1989|Artesia High School                 |\n",
      "|Paul George          |2018      |2019    |6-9   |220   |May 2, 1990 |Pete Knight High School             |\n",
      "|Kemba Walker         |2018      |2019    |6-1   |184   |May 8, 1990 |Rice High School                    |\n",
      "|Bradley Beal         |2018      |2019    |6-3   |207   |Jun 28, 1993|Chaminade College Preparatory School|\n",
      "|Damian Lillard       |2018      |2019    |6-3   |195   |Jul 15, 1990|Oakland High School                 |\n",
      "|Kevin Durant         |2018      |2019    |6-9   |240   |Sep 29, 1988|Montrose Christian School           |\n",
      "|Giannis Antetokounmpo|2018      |2019    |6-11  |242   |Dec 6, 1994 |null                                |\n",
      "|Stephen Curry        |2018      |2019    |6-3   |190   |Mar 14, 1988|Charlotte Christian School          |\n",
      "|Karl-Anthony Towns   |2018      |2019    |7-0   |248   |Nov 15, 1995|St. Joseph High School              |\n",
      "|Blake Griffin        |2018      |2019    |6-10  |250   |Mar 16, 1989|Oklahoma Christian School           |\n",
      "|Donovan Mitchell     |2018      |2019    |6-3   |215   |Sep 7, 1996 |Brewster Academy                    |\n",
      "|Joel Embiid          |2018      |2019    |7-0   |250   |Mar 16, 1994|The Rock High School                |\n",
      "|LaMarcus Aldridge    |2018      |2019    |6-11  |265   |Jul 19, 1985|Seagoville High School              |\n",
      "|D'Angelo Russell     |2018      |2019    |6-5   |198   |Feb 23, 1996|Montverde Academy                   |\n",
      "|Devin Booker         |2018      |2019    |6-6   |206   |Oct 30, 1996|Moss Point High School              |\n",
      "|Buddy Hield          |2018      |2019    |6-4   |220   |Dec 17, 1992|Sunrise Christian Academy           |\n",
      "|Klay Thompson        |2018      |2019    |6-7   |215   |Feb 8, 1990 |Santa Margarita Catholic High School|\n",
      "|Russell Westbrook    |2018      |2019    |6-3   |200   |Nov 12, 1988|Leuzinger High School               |\n",
      "|Nikola Vucevic       |2018      |2019    |7-0   |260   |Oct 24, 1990|Stoneridge Prep                     |\n",
      "|Tobias Harris        |2018      |2019    |6-9   |235   |Jul 15, 1992|Half Hollow Hills West High School  |\n",
      "+---------------------+----------+--------+------+------+------------+------------------------------------+\n",
      "only showing top 20 rows\n",
      "\n"
     ]
    },
    {
     "name": "stderr",
     "output_type": "stream",
     "text": [
      "\r",
      "                                                                                \r"
     ]
    }
   ],
   "source": [
    "dataFrame_aux.createOrReplaceTempView(\"dataFrame_aux\")\n",
    "\n",
    "# preparar aux para a juncao.\n",
    "df_aux = spark.sql(\n",
    "    \"\"\"\n",
    "    SELECT Player,year_start,year_end,height,weight,birth_date,high_school\n",
    "    FROM dataFrame_aux\n",
    "    WHERE (Season == \"2018 - 2019\" OR Season == \"2019 - 2020\")\n",
    "    AND League == \"NBA\"\n",
    "    AND Stage == \"Regular_Season\"\n",
    "    \"\"\"\n",
    ")\n",
    "\n",
    "df_aux.show(truncate= False)"
   ]
  },
  {
   "cell_type": "code",
   "execution_count": 7,
   "id": "d5f90653",
   "metadata": {},
   "outputs": [],
   "source": [
    "df_aux = df_aux.withColumnRenamed('Player', 'name')"
   ]
  },
  {
   "cell_type": "code",
   "execution_count": 8,
   "id": "4f3be234",
   "metadata": {},
   "outputs": [
    {
     "name": "stderr",
     "output_type": "stream",
     "text": [
      "\r",
      "[Stage 6:>                                                          (0 + 1) / 1]\r"
     ]
    },
    {
     "name": "stdout",
     "output_type": "stream",
     "text": [
      "+-------------------+----------+--------+--------+------+------+-----------------+-------------------------------------+-----------+\n",
      "|name               |year_start|year_end|position|height|weight|birth_date       |college                              |high_school|\n",
      "+-------------------+----------+--------+--------+------+------+-----------------+-------------------------------------+-----------+\n",
      "|Alaa Abdelnaby     |1991      |1995    |F-C     |6-10  |240   |June 24, 1968    |Duke University                      |null       |\n",
      "|Zaid Abdul-Aziz    |1969      |1978    |C-F     |6-9   |235   |April 7, 1946    |Iowa State University                |null       |\n",
      "|Kareem Abdul-Jabbar|1970      |1989    |C       |7-2   |225   |April 16, 1947   |University of California, Los Angeles|null       |\n",
      "|Mahmoud Abdul-Rauf |1991      |2001    |G       |6-1   |162   |March 9, 1969    |Louisiana State University           |null       |\n",
      "|Tariq Abdul-Wahad  |1998      |2003    |F       |6-6   |223   |November 3, 1974 |San Jose State University            |null       |\n",
      "|Shareef Abdur-Rahim|1997      |2008    |F       |6-9   |225   |December 11, 1976|University of California             |null       |\n",
      "|Tom Abernethy      |1977      |1981    |F       |6-7   |220   |May 6, 1954      |Indiana University                   |null       |\n",
      "|Forest Able        |1957      |1957    |G       |6-3   |180   |July 27, 1932    |Western Kentucky University          |null       |\n",
      "|John Abramovic     |1947      |1948    |F       |6-3   |195   |February 9, 1919 |Salem International University       |null       |\n",
      "|Alex Abrines       |2017      |2018    |G-F     |6-6   |190   |August 1, 1993   |null                                 |null       |\n",
      "|Alex Acker         |2006      |2009    |G       |6-5   |185   |January 21, 1983 |Pepperdine University                |null       |\n",
      "|Don Ackerman       |1954      |1954    |G       |6-0   |183   |September 4, 1930|Long Island University               |null       |\n",
      "|Mark Acres         |1988      |1993    |F-C     |6-11  |220   |November 15, 1962|Oral Roberts University              |null       |\n",
      "|Bud Acton          |1968      |1968    |F       |6-6   |210   |January 11, 1942 |Hillsdale College                    |null       |\n",
      "|Quincy Acy         |2013      |2018    |F       |6-7   |240   |October 6, 1990  |Baylor University                    |null       |\n",
      "|Alvan Adams        |1976      |1988    |C-F     |6-9   |210   |July 19, 1954    |University of Oklahoma               |null       |\n",
      "|Don Adams          |1971      |1977    |F       |6-6   |210   |November 27, 1947|Northwestern University              |null       |\n",
      "|George Adams       |1973      |1975    |F-G     |6-5   |210   |May 15, 1949     |Gardner-Webb University              |null       |\n",
      "|Hassan Adams       |2007      |2009    |G       |6-4   |220   |June 20, 1984    |University of Arizona                |null       |\n",
      "|Jordan Adams       |2015      |2016    |G       |6-5   |209   |July 8, 1994     |University of California, Los Angeles|null       |\n",
      "+-------------------+----------+--------+--------+------+------+-----------------+-------------------------------------+-----------+\n",
      "only showing top 20 rows\n",
      "\n"
     ]
    },
    {
     "name": "stderr",
     "output_type": "stream",
     "text": [
      "\r",
      "                                                                                \r"
     ]
    }
   ],
   "source": [
    "df_complete = dataFrame.unionByName(df_aux, allowMissingColumns = True)\n",
    "\n",
    "df_complete.show(truncate= False)"
   ]
  },
  {
   "cell_type": "code",
   "execution_count": 9,
   "id": "edbe6413",
   "metadata": {},
   "outputs": [],
   "source": [
    "# INÍCIO DA EDIÇÃO DO DATAFRAME COMPLETO"
   ]
  },
  {
   "cell_type": "code",
   "execution_count": 10,
   "id": "8b53a7b3",
   "metadata": {},
   "outputs": [],
   "source": [
    "# adicionar altura em inches para calculo do imc\n",
    "replaced_df = df_complete.withColumn(    \n",
    "    \"height_in\",\n",
    "    (dataFrame.height.substr(1, 1) * 12) + dataFrame.height.substr(3, 2)\n",
    ")"
   ]
  },
  {
   "cell_type": "code",
   "execution_count": 11,
   "id": "e8e5c3bd",
   "metadata": {},
   "outputs": [],
   "source": [
    "# adicionar imc\n",
    "replaced_df = replaced_df.withColumn(    \n",
    "    \"imc\",\n",
    "    (col(\"weight\") / (col(\"height_in\")*col(\"height_in\")) * 703)\n",
    ")"
   ]
  },
  {
   "cell_type": "code",
   "execution_count": 12,
   "id": "2c96119a",
   "metadata": {},
   "outputs": [],
   "source": [
    "# adicionar altura e peso em metric\n",
    "replaced_df = replaced_df.withColumn(    \n",
    "    \"height_cm\",\n",
    "    col(\"height_in\") * 2.54\n",
    ")\n",
    "\n",
    "replaced_df = replaced_df.withColumn(    \n",
    "    \"weight_kg\",\n",
    "    col(\"weight\") * 0.45359237\n",
    ")"
   ]
  },
  {
   "cell_type": "code",
   "execution_count": 13,
   "id": "8d0a63a9",
   "metadata": {},
   "outputs": [],
   "source": [
    "# FIM DA EDIÇÃO DO DATAFRAME"
   ]
  },
  {
   "cell_type": "code",
   "execution_count": 14,
   "id": "266e5bc0",
   "metadata": {},
   "outputs": [],
   "source": [
    "replaced_df = replaced_df.withColumn(\"name\", replaced_df[\"name\"].cast(StringType())) \n",
    "replaced_df = replaced_df.withColumn(\"year_start\", replaced_df[\"year_start\"].cast(IntegerType()))\n",
    "replaced_df = replaced_df.withColumn(\"year_end\", replaced_df[\"year_end\"].cast(IntegerType())) \n",
    "replaced_df = replaced_df.withColumn(\"position\", replaced_df[\"position\"].cast(StringType()))\n",
    "replaced_df = replaced_df.withColumn(\"height\", replaced_df[\"height\"].cast(StringType())) \n",
    "replaced_df = replaced_df.withColumn(\"weight\", replaced_df[\"weight\"].cast(IntegerType())) \n",
    "replaced_df = replaced_df.withColumn(\"birth_date\",replaced_df[\"birth_date\"].cast(StringType())) \n",
    "replaced_df = replaced_df.withColumn(\"college\", replaced_df[\"college\"].cast(StringType())) \n",
    "replaced_df = replaced_df.withColumn(\"high_school\", replaced_df[\"high_school\"].cast(StringType()))\n",
    "replaced_df = replaced_df.withColumn(\"height_in\", replaced_df[\"height_in\"].cast(DoubleType()))\n",
    "replaced_df = replaced_df.withColumn(\"imc\", replaced_df[\"imc\"].cast(DoubleType()))\n",
    "replaced_df = replaced_df.withColumn(\"height_cm\", replaced_df[\"height_cm\"].cast(DoubleType()))\n",
    "replaced_df = replaced_df.withColumn(\"weight_kg\", replaced_df[\"weight_kg\"].cast(DoubleType()))"
   ]
  },
  {
   "cell_type": "code",
   "execution_count": 15,
   "id": "2376695e",
   "metadata": {},
   "outputs": [
    {
     "name": "stdout",
     "output_type": "stream",
     "text": [
      "root\n",
      " |-- name: string (nullable = true)\n",
      " |-- year_start: integer (nullable = true)\n",
      " |-- year_end: integer (nullable = true)\n",
      " |-- position: string (nullable = true)\n",
      " |-- height: string (nullable = true)\n",
      " |-- weight: integer (nullable = true)\n",
      " |-- birth_date: string (nullable = true)\n",
      " |-- college: string (nullable = true)\n",
      " |-- high_school: string (nullable = true)\n",
      " |-- height_in: double (nullable = true)\n",
      " |-- imc: double (nullable = true)\n",
      " |-- height_cm: double (nullable = true)\n",
      " |-- weight_kg: double (nullable = true)\n",
      "\n"
     ]
    },
    {
     "name": "stderr",
     "output_type": "stream",
     "text": [
      "                                                                                \r"
     ]
    },
    {
     "name": "stdout",
     "output_type": "stream",
     "text": [
      "+-------------------+----------+--------+--------+------+------+-----------------+-------------------------------------+-----------+---------+------------------+------------------+------------------+\n",
      "|name               |year_start|year_end|position|height|weight|birth_date       |college                              |high_school|height_in|imc               |height_cm         |weight_kg         |\n",
      "+-------------------+----------+--------+--------+------+------+-----------------+-------------------------------------+-----------+---------+------------------+------------------+------------------+\n",
      "|Alaa Abdelnaby     |1991      |1995    |F-C     |6-10  |240   |June 24, 1968    |Duke University                      |null       |82.0     |25.09220701963117 |208.28            |108.8621688       |\n",
      "|Zaid Abdul-Aziz    |1969      |1978    |C-F     |6-9   |235   |April 7, 1946    |Iowa State University                |null       |81.0     |25.179850632525532|205.74            |106.59420695      |\n",
      "|Kareem Abdul-Jabbar|1970      |1989    |C       |7-2   |225   |April 16, 1947   |University of California, Los Angeles|null       |86.0     |21.386560302866414|218.44            |102.05828325      |\n",
      "|Mahmoud Abdul-Rauf |1991      |2001    |G       |6-1   |162   |March 9, 1969    |Louisiana State University           |null       |73.0     |21.37098892850441 |185.42000000000002|73.48196394       |\n",
      "|Tariq Abdul-Wahad  |1998      |2003    |F       |6-6   |223   |November 3, 1974 |San Jose State University            |null       |78.0     |25.76742274819198 |198.12            |101.15109851000001|\n",
      "|Shareef Abdur-Rahim|1997      |2008    |F       |6-9   |225   |December 11, 1976|University of California             |null       |81.0     |24.108367626886146|205.74            |102.05828325      |\n",
      "|Tom Abernethy      |1977      |1981    |F       |6-7   |220   |May 6, 1954      |Indiana University                   |null       |79.0     |24.781285050472682|200.66            |99.79032140000001 |\n",
      "|Forest Able        |1957      |1957    |G       |6-3   |180   |July 27, 1932    |Western Kentucky University          |null       |75.0     |22.496000000000002|190.5             |81.6466266        |\n",
      "|John Abramovic     |1947      |1948    |F       |6-3   |195   |February 9, 1919 |Salem International University       |null       |75.0     |24.370666666666665|190.5             |88.45051215000001 |\n",
      "|Alex Abrines       |2017      |2018    |G-F     |6-6   |190   |August 1, 1993   |null                                 |null       |78.0     |21.9543063773833  |198.12            |86.1825503        |\n",
      "|Alex Acker         |2006      |2009    |G       |6-5   |185   |January 21, 1983 |Pepperdine University                |null       |77.0     |21.935402260077584|195.58            |83.91458845000001 |\n",
      "|Don Ackerman       |1954      |1954    |G       |6-0   |183   |September 4, 1930|Long Island University               |null       |72.0     |24.816550925925924|182.88            |83.00740371       |\n",
      "|Mark Acres         |1988      |1993    |F-C     |6-11  |220   |November 15, 1962|Oral Roberts University              |null       |83.0     |22.450283059950646|210.82            |99.79032140000001 |\n",
      "|Bud Acton          |1968      |1968    |F       |6-6   |210   |January 11, 1942 |Hillsdale College                    |null       |78.0     |24.26528599605523 |198.12            |95.2543977        |\n",
      "|Quincy Acy         |2013      |2018    |F       |6-7   |240   |October 6, 1990  |Baylor University                    |null       |79.0     |27.034129145970198|200.66            |108.8621688       |\n",
      "|Alvan Adams        |1976      |1988    |C-F     |6-9   |210   |July 19, 1954    |University of Oklahoma               |null       |81.0     |22.50114311842707 |205.74            |95.2543977        |\n",
      "|Don Adams          |1971      |1977    |F       |6-6   |210   |November 27, 1947|Northwestern University              |null       |78.0     |24.26528599605523 |198.12            |95.2543977        |\n",
      "|George Adams       |1973      |1975    |F-G     |6-5   |210   |May 15, 1949     |Gardner-Webb University              |null       |77.0     |24.89964580873672 |195.58            |95.2543977        |\n",
      "|Hassan Adams       |2007      |2009    |G       |6-4   |220   |June 20, 1984    |University of Arizona                |null       |76.0     |26.77631578947368 |193.04            |99.79032140000001 |\n",
      "|Jordan Adams       |2015      |2016    |G       |6-5   |209   |July 8, 1994     |University of California, Los Angeles|null       |77.0     |24.78107606679035 |195.58            |94.80080533       |\n",
      "+-------------------+----------+--------+--------+------+------+-----------------+-------------------------------------+-----------+---------+------------------+------------------+------------------+\n",
      "only showing top 20 rows\n",
      "\n"
     ]
    },
    {
     "name": "stderr",
     "output_type": "stream",
     "text": [
      "                                                                                \r"
     ]
    },
    {
     "data": {
      "text/html": [
       "<div>\n",
       "<style scoped>\n",
       "    .dataframe tbody tr th:only-of-type {\n",
       "        vertical-align: middle;\n",
       "    }\n",
       "\n",
       "    .dataframe tbody tr th {\n",
       "        vertical-align: top;\n",
       "    }\n",
       "\n",
       "    .dataframe thead th {\n",
       "        text-align: right;\n",
       "    }\n",
       "</style>\n",
       "<table border=\"1\" class=\"dataframe\">\n",
       "  <thead>\n",
       "    <tr style=\"text-align: right;\">\n",
       "      <th></th>\n",
       "      <th>name</th>\n",
       "      <th>year_start</th>\n",
       "      <th>year_end</th>\n",
       "      <th>position</th>\n",
       "      <th>height</th>\n",
       "      <th>weight</th>\n",
       "      <th>birth_date</th>\n",
       "      <th>college</th>\n",
       "      <th>high_school</th>\n",
       "      <th>height_in</th>\n",
       "      <th>imc</th>\n",
       "      <th>height_cm</th>\n",
       "      <th>weight_kg</th>\n",
       "    </tr>\n",
       "  </thead>\n",
       "  <tbody>\n",
       "    <tr>\n",
       "      <th>0</th>\n",
       "      <td>Alaa Abdelnaby</td>\n",
       "      <td>1991</td>\n",
       "      <td>1995</td>\n",
       "      <td>F-C</td>\n",
       "      <td>6-10</td>\n",
       "      <td>240.0</td>\n",
       "      <td>June 24, 1968</td>\n",
       "      <td>Duke University</td>\n",
       "      <td>None</td>\n",
       "      <td>82.0</td>\n",
       "      <td>25.092207</td>\n",
       "      <td>208.28</td>\n",
       "      <td>108.862169</td>\n",
       "    </tr>\n",
       "    <tr>\n",
       "      <th>1</th>\n",
       "      <td>Zaid Abdul-Aziz</td>\n",
       "      <td>1969</td>\n",
       "      <td>1978</td>\n",
       "      <td>C-F</td>\n",
       "      <td>6-9</td>\n",
       "      <td>235.0</td>\n",
       "      <td>April 7, 1946</td>\n",
       "      <td>Iowa State University</td>\n",
       "      <td>None</td>\n",
       "      <td>81.0</td>\n",
       "      <td>25.179851</td>\n",
       "      <td>205.74</td>\n",
       "      <td>106.594207</td>\n",
       "    </tr>\n",
       "    <tr>\n",
       "      <th>2</th>\n",
       "      <td>Kareem Abdul-Jabbar</td>\n",
       "      <td>1970</td>\n",
       "      <td>1989</td>\n",
       "      <td>C</td>\n",
       "      <td>7-2</td>\n",
       "      <td>225.0</td>\n",
       "      <td>April 16, 1947</td>\n",
       "      <td>University of California, Los Angeles</td>\n",
       "      <td>None</td>\n",
       "      <td>86.0</td>\n",
       "      <td>21.386560</td>\n",
       "      <td>218.44</td>\n",
       "      <td>102.058283</td>\n",
       "    </tr>\n",
       "    <tr>\n",
       "      <th>3</th>\n",
       "      <td>Mahmoud Abdul-Rauf</td>\n",
       "      <td>1991</td>\n",
       "      <td>2001</td>\n",
       "      <td>G</td>\n",
       "      <td>6-1</td>\n",
       "      <td>162.0</td>\n",
       "      <td>March 9, 1969</td>\n",
       "      <td>Louisiana State University</td>\n",
       "      <td>None</td>\n",
       "      <td>73.0</td>\n",
       "      <td>21.370989</td>\n",
       "      <td>185.42</td>\n",
       "      <td>73.481964</td>\n",
       "    </tr>\n",
       "    <tr>\n",
       "      <th>4</th>\n",
       "      <td>Tariq Abdul-Wahad</td>\n",
       "      <td>1998</td>\n",
       "      <td>2003</td>\n",
       "      <td>F</td>\n",
       "      <td>6-6</td>\n",
       "      <td>223.0</td>\n",
       "      <td>November 3, 1974</td>\n",
       "      <td>San Jose State University</td>\n",
       "      <td>None</td>\n",
       "      <td>78.0</td>\n",
       "      <td>25.767423</td>\n",
       "      <td>198.12</td>\n",
       "      <td>101.151099</td>\n",
       "    </tr>\n",
       "    <tr>\n",
       "      <th>...</th>\n",
       "      <td>...</td>\n",
       "      <td>...</td>\n",
       "      <td>...</td>\n",
       "      <td>...</td>\n",
       "      <td>...</td>\n",
       "      <td>...</td>\n",
       "      <td>...</td>\n",
       "      <td>...</td>\n",
       "      <td>...</td>\n",
       "      <td>...</td>\n",
       "      <td>...</td>\n",
       "      <td>...</td>\n",
       "      <td>...</td>\n",
       "    </tr>\n",
       "    <tr>\n",
       "      <th>5117</th>\n",
       "      <td>Matt Dellavedova</td>\n",
       "      <td>2019</td>\n",
       "      <td>2020</td>\n",
       "      <td>None</td>\n",
       "      <td>6-4</td>\n",
       "      <td>200.0</td>\n",
       "      <td>Sep 8, 1990</td>\n",
       "      <td>None</td>\n",
       "      <td>Australian Institute of Sport</td>\n",
       "      <td>76.0</td>\n",
       "      <td>24.342105</td>\n",
       "      <td>193.04</td>\n",
       "      <td>90.718474</td>\n",
       "    </tr>\n",
       "    <tr>\n",
       "      <th>5118</th>\n",
       "      <td>Goga Bitadze</td>\n",
       "      <td>2019</td>\n",
       "      <td>2020</td>\n",
       "      <td>None</td>\n",
       "      <td>6-11</td>\n",
       "      <td>245.0</td>\n",
       "      <td>Jul 20, 1999</td>\n",
       "      <td>None</td>\n",
       "      <td>None</td>\n",
       "      <td>83.0</td>\n",
       "      <td>25.001452</td>\n",
       "      <td>210.82</td>\n",
       "      <td>111.130131</td>\n",
       "    </tr>\n",
       "    <tr>\n",
       "      <th>5119</th>\n",
       "      <td>Nassir Little</td>\n",
       "      <td>2019</td>\n",
       "      <td>2020</td>\n",
       "      <td>None</td>\n",
       "      <td>6-6</td>\n",
       "      <td>220.0</td>\n",
       "      <td>Feb 11, 2000</td>\n",
       "      <td>None</td>\n",
       "      <td>Orlando Christian Prep High School</td>\n",
       "      <td>78.0</td>\n",
       "      <td>25.420776</td>\n",
       "      <td>198.12</td>\n",
       "      <td>99.790321</td>\n",
       "    </tr>\n",
       "    <tr>\n",
       "      <th>5120</th>\n",
       "      <td>David Nwaba</td>\n",
       "      <td>2019</td>\n",
       "      <td>2020</td>\n",
       "      <td>None</td>\n",
       "      <td>6-4</td>\n",
       "      <td>219.0</td>\n",
       "      <td>Jan 14, 1993</td>\n",
       "      <td>None</td>\n",
       "      <td>University City High School</td>\n",
       "      <td>76.0</td>\n",
       "      <td>26.654605</td>\n",
       "      <td>193.04</td>\n",
       "      <td>99.336729</td>\n",
       "    </tr>\n",
       "    <tr>\n",
       "      <th>5121</th>\n",
       "      <td>Al-Farouq Aminu</td>\n",
       "      <td>2019</td>\n",
       "      <td>2020</td>\n",
       "      <td>None</td>\n",
       "      <td>6-9</td>\n",
       "      <td>220.0</td>\n",
       "      <td>Sep 21, 1990</td>\n",
       "      <td>None</td>\n",
       "      <td>Norcross High School</td>\n",
       "      <td>81.0</td>\n",
       "      <td>23.572626</td>\n",
       "      <td>205.74</td>\n",
       "      <td>99.790321</td>\n",
       "    </tr>\n",
       "  </tbody>\n",
       "</table>\n",
       "<p>5122 rows × 13 columns</p>\n",
       "</div>"
      ],
      "text/plain": [
       "                     name  year_start  year_end position height  weight  \\\n",
       "0          Alaa Abdelnaby        1991      1995      F-C   6-10   240.0   \n",
       "1         Zaid Abdul-Aziz        1969      1978      C-F    6-9   235.0   \n",
       "2     Kareem Abdul-Jabbar        1970      1989        C    7-2   225.0   \n",
       "3      Mahmoud Abdul-Rauf        1991      2001        G    6-1   162.0   \n",
       "4       Tariq Abdul-Wahad        1998      2003        F    6-6   223.0   \n",
       "...                   ...         ...       ...      ...    ...     ...   \n",
       "5117     Matt Dellavedova        2019      2020     None    6-4   200.0   \n",
       "5118         Goga Bitadze        2019      2020     None   6-11   245.0   \n",
       "5119        Nassir Little        2019      2020     None    6-6   220.0   \n",
       "5120          David Nwaba        2019      2020     None    6-4   219.0   \n",
       "5121      Al-Farouq Aminu        2019      2020     None    6-9   220.0   \n",
       "\n",
       "            birth_date                                college  \\\n",
       "0        June 24, 1968                        Duke University   \n",
       "1        April 7, 1946                  Iowa State University   \n",
       "2       April 16, 1947  University of California, Los Angeles   \n",
       "3        March 9, 1969             Louisiana State University   \n",
       "4     November 3, 1974              San Jose State University   \n",
       "...                ...                                    ...   \n",
       "5117       Sep 8, 1990                                   None   \n",
       "5118      Jul 20, 1999                                   None   \n",
       "5119      Feb 11, 2000                                   None   \n",
       "5120      Jan 14, 1993                                   None   \n",
       "5121      Sep 21, 1990                                   None   \n",
       "\n",
       "                             high_school  height_in        imc  height_cm  \\\n",
       "0                                   None       82.0  25.092207     208.28   \n",
       "1                                   None       81.0  25.179851     205.74   \n",
       "2                                   None       86.0  21.386560     218.44   \n",
       "3                                   None       73.0  21.370989     185.42   \n",
       "4                                   None       78.0  25.767423     198.12   \n",
       "...                                  ...        ...        ...        ...   \n",
       "5117       Australian Institute of Sport       76.0  24.342105     193.04   \n",
       "5118                                None       83.0  25.001452     210.82   \n",
       "5119  Orlando Christian Prep High School       78.0  25.420776     198.12   \n",
       "5120         University City High School       76.0  26.654605     193.04   \n",
       "5121                Norcross High School       81.0  23.572626     205.74   \n",
       "\n",
       "       weight_kg  \n",
       "0     108.862169  \n",
       "1     106.594207  \n",
       "2     102.058283  \n",
       "3      73.481964  \n",
       "4     101.151099  \n",
       "...          ...  \n",
       "5117   90.718474  \n",
       "5118  111.130131  \n",
       "5119   99.790321  \n",
       "5120   99.336729  \n",
       "5121   99.790321  \n",
       "\n",
       "[5122 rows x 13 columns]"
      ]
     },
     "execution_count": 15,
     "metadata": {},
     "output_type": "execute_result"
    }
   ],
   "source": [
    "replaced_df.printSchema()\n",
    "replaced_df.show(truncate=False)\n",
    "replaced_df.toPandas()\n",
    "#topandas usar apenas para mostrar os dados em tabela"
   ]
  },
  {
   "cell_type": "code",
   "execution_count": 15,
   "id": "8afa4785",
   "metadata": {},
   "outputs": [
    {
     "name": "stderr",
     "output_type": "stream",
     "text": [
      "                                                                                \r"
     ]
    }
   ],
   "source": [
    "replaced_df \\\n",
    "    .select(\"name\",\"year_start\",\"year_end\",\"position\",\"birth_date\",\"college\",\"height\",\"height_in\",\"height_cm\",\"weight\",\"weight_kg\",\"imc\") \\\n",
    "    .write \\\n",
    "    .mode(\"overwrite\") \\\n",
    "    .format(\"delta\") \\\n",
    "    .save(\"hdfs://hdfs-nn:9000/projeto/fisico/silver/bios\")"
   ]
  },
  {
   "cell_type": "code",
   "execution_count": 17,
   "id": "95785ca5",
   "metadata": {
    "scrolled": true
   },
   "outputs": [
    {
     "name": "stderr",
     "output_type": "stream",
     "text": [
      "                                                                                \r"
     ]
    },
    {
     "name": "stdout",
     "output_type": "stream",
     "text": [
      "+-------------------+----------+--------+--------+-----------------+-------------------------------------+------+---------+------------------+------+------------------+------------------+\n",
      "|name               |year_start|year_end|position|birth_date       |college                              |height|height_in|height_cm         |weight|weight_kg         |imc               |\n",
      "+-------------------+----------+--------+--------+-----------------+-------------------------------------+------+---------+------------------+------+------------------+------------------+\n",
      "|Alaa Abdelnaby     |1991      |1995    |F-C     |June 24, 1968    |Duke University                      |6-10  |82.0     |208.28            |240   |108.8621688       |25.09220701963117 |\n",
      "|Zaid Abdul-Aziz    |1969      |1978    |C-F     |April 7, 1946    |Iowa State University                |6-9   |81.0     |205.74            |235   |106.59420695      |25.179850632525532|\n",
      "|Kareem Abdul-Jabbar|1970      |1989    |C       |April 16, 1947   |University of California, Los Angeles|7-2   |86.0     |218.44            |225   |102.05828325      |21.386560302866414|\n",
      "|Mahmoud Abdul-Rauf |1991      |2001    |G       |March 9, 1969    |Louisiana State University           |6-1   |73.0     |185.42000000000002|162   |73.48196394       |21.37098892850441 |\n",
      "|Tariq Abdul-Wahad  |1998      |2003    |F       |November 3, 1974 |San Jose State University            |6-6   |78.0     |198.12            |223   |101.15109851000001|25.76742274819198 |\n",
      "|Shareef Abdur-Rahim|1997      |2008    |F       |December 11, 1976|University of California             |6-9   |81.0     |205.74            |225   |102.05828325      |24.108367626886146|\n",
      "|Tom Abernethy      |1977      |1981    |F       |May 6, 1954      |Indiana University                   |6-7   |79.0     |200.66            |220   |99.79032140000001 |24.781285050472682|\n",
      "|Forest Able        |1957      |1957    |G       |July 27, 1932    |Western Kentucky University          |6-3   |75.0     |190.5             |180   |81.6466266        |22.496000000000002|\n",
      "|John Abramovic     |1947      |1948    |F       |February 9, 1919 |Salem International University       |6-3   |75.0     |190.5             |195   |88.45051215000001 |24.370666666666665|\n",
      "|Alex Abrines       |2017      |2018    |G-F     |August 1, 1993   |null                                 |6-6   |78.0     |198.12            |190   |86.1825503        |21.9543063773833  |\n",
      "|Alex Acker         |2006      |2009    |G       |January 21, 1983 |Pepperdine University                |6-5   |77.0     |195.58            |185   |83.91458845000001 |21.935402260077584|\n",
      "|Don Ackerman       |1954      |1954    |G       |September 4, 1930|Long Island University               |6-0   |72.0     |182.88            |183   |83.00740371       |24.816550925925924|\n",
      "|Mark Acres         |1988      |1993    |F-C     |November 15, 1962|Oral Roberts University              |6-11  |83.0     |210.82            |220   |99.79032140000001 |22.450283059950646|\n",
      "|Bud Acton          |1968      |1968    |F       |January 11, 1942 |Hillsdale College                    |6-6   |78.0     |198.12            |210   |95.2543977        |24.26528599605523 |\n",
      "|Quincy Acy         |2013      |2018    |F       |October 6, 1990  |Baylor University                    |6-7   |79.0     |200.66            |240   |108.8621688       |27.034129145970198|\n",
      "|Alvan Adams        |1976      |1988    |C-F     |July 19, 1954    |University of Oklahoma               |6-9   |81.0     |205.74            |210   |95.2543977        |22.50114311842707 |\n",
      "|Don Adams          |1971      |1977    |F       |November 27, 1947|Northwestern University              |6-6   |78.0     |198.12            |210   |95.2543977        |24.26528599605523 |\n",
      "|George Adams       |1973      |1975    |F-G     |May 15, 1949     |Gardner-Webb University              |6-5   |77.0     |195.58            |210   |95.2543977        |24.89964580873672 |\n",
      "|Hassan Adams       |2007      |2009    |G       |June 20, 1984    |University of Arizona                |6-4   |76.0     |193.04            |220   |99.79032140000001 |26.77631578947368 |\n",
      "|Jordan Adams       |2015      |2016    |G       |July 8, 1994     |University of California, Los Angeles|6-5   |77.0     |195.58            |209   |94.80080533       |24.78107606679035 |\n",
      "+-------------------+----------+--------+--------+-----------------+-------------------------------------+------+---------+------------------+------+------------------+------------------+\n",
      "only showing top 20 rows\n",
      "\n"
     ]
    }
   ],
   "source": [
    "spark.sql(\n",
    "    \"\"\"\n",
    "    SELECT *\n",
    "    FROM silver.bios\n",
    "    \"\"\"\n",
    ").show(truncate = False)"
   ]
  }
 ],
 "metadata": {
  "kernelspec": {
   "display_name": "Python 3 (ipykernel)",
   "language": "python",
   "name": "python3"
  },
  "language_info": {
   "codemirror_mode": {
    "name": "ipython",
    "version": 3
   },
   "file_extension": ".py",
   "mimetype": "text/x-python",
   "name": "python",
   "nbconvert_exporter": "python",
   "pygments_lexer": "ipython3",
   "version": "3.9.7"
  }
 },
 "nbformat": 4,
 "nbformat_minor": 5
}
